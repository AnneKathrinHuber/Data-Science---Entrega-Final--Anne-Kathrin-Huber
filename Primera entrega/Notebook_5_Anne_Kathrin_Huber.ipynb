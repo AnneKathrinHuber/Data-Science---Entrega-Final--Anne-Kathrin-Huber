{
  "nbformat": 4,
  "nbformat_minor": 0,
  "metadata": {
    "colab": {
      "provenance": [],
      "authorship_tag": "ABX9TyPnx3TGrE34ogvMIIP0LsP1",
      "include_colab_link": true
    },
    "kernelspec": {
      "name": "python3",
      "display_name": "Python 3"
    },
    "language_info": {
      "name": "python"
    }
  },
  "cells": [
    {
      "cell_type": "markdown",
      "metadata": {
        "id": "view-in-github",
        "colab_type": "text"
      },
      "source": [
        "<a href=\"https://colab.research.google.com/github/AnneKathrinHuber/Data-Science---Entrega-1---Anne-Kathrin-Huber/blob/main/Notebook_5_Anne_Kathrin_Huber.ipynb\" target=\"_parent\"><img src=\"https://colab.research.google.com/assets/colab-badge.svg\" alt=\"Open In Colab\"/></a>"
      ]
    },
    {
      "cell_type": "markdown",
      "source": [
        "# Programa Ingenias+ Data Science"
      ],
      "metadata": {
        "id": "KbwYg6ximg3K"
      }
    },
    {
      "cell_type": "markdown",
      "source": [
        "# Ejercicios\n",
        "\n",
        "    1. Crear un arreglo de ceros de longitud 12.\n",
        "    2. Crear un arreglo de longitud 10 con ceros en todas sus posiciones y un 10 en la posición número 5.\n",
        "    3. Crear un arreglo que tenga los números del 10 al 49.\n",
        "    4. Crear una arreglo 2d de shape (3, 3) que tenga los números del 0 al 8.\n",
        "    5. Crear un arreglo de números aleatorios de longitud 100 y obtener su media y varianza.\n",
        "    6. Calcular la media de un arreglo usando np.sum.\n",
        "    7. Calcular la varianza de un arreglo usando np.sum y np.mean.\n",
        "    8. Crear un array de números aleatorios usando np.random.randn.\n"
      ],
      "metadata": {
        "id": "4rZaexSTmjUn"
      }
    },
    {
      "cell_type": "markdown",
      "source": [
        "1. Crear un arreglo de ceros de longitud 12."
      ],
      "metadata": {
        "id": "AsRDkOilo6-2"
      }
    },
    {
      "cell_type": "code",
      "source": [
        "# Importar librería\n",
        "import numpy as np"
      ],
      "metadata": {
        "id": "m0y9gYaspAeS"
      },
      "execution_count": null,
      "outputs": []
    },
    {
      "cell_type": "code",
      "source": [
        "# Crear un arreglo de ceros de longitud 12\n",
        "arreglo_1 = np.zeros(12)\n",
        "\n",
        "# Mostrar arreglo en pantalla\n",
        "print(arreglo_1)\n",
        "\n",
        "# Mostrar longitud del arreglo\n",
        "len (arreglo_1)"
      ],
      "metadata": {
        "colab": {
          "base_uri": "https://localhost:8080/"
        },
        "id": "ulFSff8lpE3d",
        "outputId": "8b4e3245-c688-46dd-b99d-bd8a582e33ee"
      },
      "execution_count": null,
      "outputs": [
        {
          "output_type": "stream",
          "name": "stdout",
          "text": [
            "[0. 0. 0. 0. 0. 0. 0. 0. 0. 0. 0. 0.]\n"
          ]
        },
        {
          "output_type": "execute_result",
          "data": {
            "text/plain": [
              "12"
            ]
          },
          "metadata": {},
          "execution_count": 3
        }
      ]
    },
    {
      "cell_type": "markdown",
      "source": [
        "2. Crear un arreglo de longitud 10 con ceros en todas sus posiciones y un 10 en la posición número 5."
      ],
      "metadata": {
        "id": "zAikVZcspvrt"
      }
    },
    {
      "cell_type": "code",
      "source": [
        "# Crear un arreglo de ceros de longitud 10\n",
        "arreglo_2 = np.zeros(10)\n",
        "\n",
        "# Asignar un 10 en la posición número 5 (índice 4, porque se empieza desde 0)\n",
        "arreglo_2[4] = 10\n",
        "\n",
        "# Mostrar arreglo en pantalla\n",
        "print(arreglo_2)\n"
      ],
      "metadata": {
        "colab": {
          "base_uri": "https://localhost:8080/"
        },
        "id": "tjP5K1NzqUIO",
        "outputId": "df175108-b5cb-4c30-939a-51b8e8371e48"
      },
      "execution_count": null,
      "outputs": [
        {
          "output_type": "stream",
          "name": "stdout",
          "text": [
            "[ 0.  0.  0.  0. 10.  0.  0.  0.  0.  0.]\n"
          ]
        }
      ]
    },
    {
      "cell_type": "markdown",
      "source": [
        "3. Crear un arreglo que tenga los números del 10 al 49."
      ],
      "metadata": {
        "id": "0yhaeONCrJJN"
      }
    },
    {
      "cell_type": "code",
      "source": [
        "# Crear un arreglo con los números del 10 al 49\n",
        "arreglo_3 = np.arange(10, 50)\n",
        "\n",
        "# Mostrar arreglo en pantalla\n",
        "print(arreglo_3)\n"
      ],
      "metadata": {
        "colab": {
          "base_uri": "https://localhost:8080/"
        },
        "id": "QNxxHnz3rNrY",
        "outputId": "fb8a2619-3bf9-4d1f-fb48-f1c814cf49f2"
      },
      "execution_count": null,
      "outputs": [
        {
          "output_type": "stream",
          "name": "stdout",
          "text": [
            "[10 11 12 13 14 15 16 17 18 19 20 21 22 23 24 25 26 27 28 29 30 31 32 33\n",
            " 34 35 36 37 38 39 40 41 42 43 44 45 46 47 48 49]\n"
          ]
        }
      ]
    },
    {
      "cell_type": "markdown",
      "source": [
        "4. Crear una arreglo 2d de shape (3, 3) que tenga los números del 0 al 8."
      ],
      "metadata": {
        "id": "IWbLfriQr-DG"
      }
    },
    {
      "cell_type": "code",
      "source": [
        "# Crear un arreglo 2D de shape (3, 3) con los números del 0 al 8\n",
        "arreglo_4 = np.arange(9).reshape((3, 3))\n",
        "\n",
        "# Mostrar arreglo en pantalla\n",
        "print(arreglo_4)"
      ],
      "metadata": {
        "colab": {
          "base_uri": "https://localhost:8080/"
        },
        "id": "Ozd4uugOsRQx",
        "outputId": "a55f5500-786a-4157-921e-5fe5429db915"
      },
      "execution_count": null,
      "outputs": [
        {
          "output_type": "stream",
          "name": "stdout",
          "text": [
            "[[0 1 2]\n",
            " [3 4 5]\n",
            " [6 7 8]]\n"
          ]
        }
      ]
    },
    {
      "cell_type": "markdown",
      "source": [
        "5. Crear un arreglo de números aleatorios de longitud 100 y obtener su media y varianza."
      ],
      "metadata": {
        "id": "lmD4mu8Ksg_T"
      }
    },
    {
      "cell_type": "code",
      "source": [
        "# Crear un arreglo de 100 números aleatorios\n",
        "arreglo_5 = np.random.rand(100)\n",
        "\n",
        "# Calcular la media\n",
        "media = np.mean(arreglo_5)\n",
        "\n",
        "# Calcular la varianza\n",
        "varianza = np.var(arreglo_5)\n",
        "\n",
        "# Mostrar arreglo en pantalla\n",
        "print(arreglo_5)\n",
        "# Mostrar media en pantalla\n",
        "print(\"Media:\", media)\n",
        "# Mostrar varianza en pantalla\n",
        "print(\"Varianza:\", varianza)"
      ],
      "metadata": {
        "colab": {
          "base_uri": "https://localhost:8080/"
        },
        "id": "oCqC4WPdvDMf",
        "outputId": "2762df5a-e8e3-40d1-82c7-30986e3052a2"
      },
      "execution_count": null,
      "outputs": [
        {
          "output_type": "stream",
          "name": "stdout",
          "text": [
            "[0.12255273 0.42792704 0.17564104 0.77696326 0.66256968 0.40536612\n",
            " 0.24050036 0.637751   0.19093904 0.96125967 0.56404405 0.09823364\n",
            " 0.43027643 0.6282848  0.64707157 0.93164517 0.26206558 0.39317799\n",
            " 0.90518833 0.94993224 0.42135491 0.22914503 0.67418889 0.01688586\n",
            " 0.60590304 0.65801133 0.07773476 0.53969457 0.62013654 0.32387662\n",
            " 0.71060329 0.22029056 0.62789936 0.63228645 0.71600594 0.6483821\n",
            " 0.36483226 0.67397406 0.2261972  0.46089768 0.44518866 0.55894724\n",
            " 0.33051327 0.15753991 0.44716284 0.92007433 0.28095191 0.34212893\n",
            " 0.44719856 0.62346912 0.26047778 0.33855904 0.80755899 0.68450376\n",
            " 0.71500521 0.75316421 0.87029563 0.93482811 0.52818314 0.77674477\n",
            " 0.44305706 0.69043521 0.12288972 0.39361288 0.54833662 0.25380164\n",
            " 0.81862048 0.44283445 0.28307948 0.70965954 0.43509136 0.31814342\n",
            " 0.4479322  0.20176822 0.9769412  0.62048206 0.09263164 0.33200269\n",
            " 0.35953472 0.67062216 0.38822545 0.61449593 0.07921239 0.74875704\n",
            " 0.81172989 0.40242059 0.51688118 0.6789399  0.38890854 0.27342096\n",
            " 0.12176908 0.76915963 0.56736297 0.08018841 0.15697985 0.01890112\n",
            " 0.54161902 0.80820818 0.31259618 0.57422534]\n",
            "Media: 0.49097664020353066\n",
            "Varianza: 0.06100158591810016\n"
          ]
        }
      ]
    },
    {
      "cell_type": "markdown",
      "source": [
        "6. Calcular la media de un arreglo usando np.sum."
      ],
      "metadata": {
        "id": "wrxX0hXgvdfH"
      }
    },
    {
      "cell_type": "code",
      "source": [
        "# Crear un arreglo\n",
        "arreglo_6 = np.array([1, 20, 3, 45, 83])\n",
        "\n",
        "# Calcular la media usando np.sum\n",
        "media = np.sum(arreglo_6) / len(arreglo_6)\n",
        "\n",
        "# Mostrar arreglo en pantalla\n",
        "print(\"Arreglo:\", arreglo_6)\n",
        "# Mostrar media en pantalla\n",
        "print(\"Media:\", media)\n"
      ],
      "metadata": {
        "colab": {
          "base_uri": "https://localhost:8080/"
        },
        "id": "Hf0eZo6sv0Kd",
        "outputId": "5d6c706c-d44c-4dbf-bcd5-2b19c0a6bc94"
      },
      "execution_count": null,
      "outputs": [
        {
          "output_type": "stream",
          "name": "stdout",
          "text": [
            "Arreglo: [ 1 20  3 45 83]\n",
            "Media: 30.4\n"
          ]
        }
      ]
    },
    {
      "cell_type": "markdown",
      "source": [
        "7. Calcular la varianza de un arreglo usando np.sum y np.mean."
      ],
      "metadata": {
        "id": "T4yUUlGcxWga"
      }
    },
    {
      "cell_type": "code",
      "source": [
        "# Crear un arreglo\n",
        "arreglo_7 = np.array([56, 77, 30, 34, 5])\n",
        "\n",
        "# Calcular la media\n",
        "media = np.mean(arreglo_7)\n",
        "\n",
        "# Calcular la varianza manualmente\n",
        "varianza = np.sum((arreglo_7 - media) ** 2) / len(arreglo_7)\n",
        "\n",
        "# Mostrar arreglo en pantalla\n",
        "print(\"Arreglo:\", arreglo_7)\n",
        "# Mostrar media en pantalla\n",
        "print(\"Media:\", media)\n",
        "# Mostrar varianza en pantalla\n",
        "print(\"Varianza:\", varianza)\n"
      ],
      "metadata": {
        "colab": {
          "base_uri": "https://localhost:8080/"
        },
        "id": "10ppxCRHxaZB",
        "outputId": "9d6d83f4-4b74-4ec0-9624-73dd1866bb87"
      },
      "execution_count": null,
      "outputs": [
        {
          "output_type": "stream",
          "name": "stdout",
          "text": [
            "Arreglo: [56 77 30 34  5]\n",
            "Media: 40.4\n",
            "Varianza: 597.0400000000001\n"
          ]
        }
      ]
    },
    {
      "cell_type": "markdown",
      "source": [
        "8. Crear un array de números aleatorios usando np.random.randn."
      ],
      "metadata": {
        "id": "UTMqoZclyOJr"
      }
    },
    {
      "cell_type": "code",
      "source": [
        "# Crear un arreglo de números aleatorios\n",
        "arreglo_8 = np.random.randn(100)\n",
        "\n",
        "# Mostrar arreglo en pantalla\n",
        "print(arreglo_8)\n"
      ],
      "metadata": {
        "colab": {
          "base_uri": "https://localhost:8080/"
        },
        "id": "xbPoTf5hyWKk",
        "outputId": "87152efe-983e-4ef6-b5e3-e5ea7471a934"
      },
      "execution_count": null,
      "outputs": [
        {
          "output_type": "stream",
          "name": "stdout",
          "text": [
            "[-0.02151143  0.0117079  -0.90567238  0.88072236  1.83063873  0.89502826\n",
            "  0.24210253 -1.07410603  1.52808284  0.90012415 -0.82935935  0.51085591\n",
            "  1.18833059  0.10031962  0.52255462 -0.09568813 -0.36674047  0.36241846\n",
            " -0.59429673  1.58374827 -0.90024611 -1.06132255 -0.58402538  0.22678481\n",
            " -0.44826158  2.602523   -0.64160075 -3.04799319  0.44158112  0.7809783\n",
            "  0.12451828  0.15598038 -0.46147038 -1.50387418  0.3328394   0.00788862\n",
            " -0.28937061  0.45311117 -0.57370258 -0.76224838  0.63613096 -0.52005194\n",
            " -0.61004865 -0.44605299 -0.94600848 -0.39039911  0.9349617   0.17929293\n",
            " -0.53645309  0.76374125  1.67576821 -0.33672472  0.81619129 -0.26682892\n",
            "  0.21474024  1.68349026  0.491333   -0.12971072  0.27908026  0.37381676\n",
            "  0.28938113  0.31190085 -1.32186149 -1.22127095  0.77115346  1.25672943\n",
            "  0.35203471  1.06392453  1.03001523  1.20781766  0.17889877  1.47979641\n",
            " -1.07786939 -0.77272922 -0.46024494 -0.86983108 -0.1599759  -0.95670499\n",
            " -0.30461279  1.48892199  0.98185254  0.77650697  0.21963681  0.33974806\n",
            " -0.95588241  1.05520836 -0.00911113 -0.98549852 -1.15680686 -0.19080599\n",
            " -0.23143295  0.15492414  0.01333653 -0.717437    0.19614693  1.33099011\n",
            "  0.43349588 -0.60265578  1.63027095 -0.22186043]\n"
          ]
        }
      ]
    },
    {
      "cell_type": "markdown",
      "source": [
        "########"
      ],
      "metadata": {
        "id": "c3sDyMzFRTWt"
      }
    }
  ]
}